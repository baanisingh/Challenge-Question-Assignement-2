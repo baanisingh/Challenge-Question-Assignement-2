{
  "nbformat": 4,
  "nbformat_minor": 0,
  "metadata": {
    "colab": {
      "provenance": [],
      "authorship_tag": "ABX9TyONbPO/qrXAmyxh+z2T8mwg",
      "include_colab_link": true
    },
    "kernelspec": {
      "name": "python3",
      "display_name": "Python 3"
    },
    "language_info": {
      "name": "python"
    }
  },
  "cells": [
    {
      "cell_type": "markdown",
      "metadata": {
        "id": "view-in-github",
        "colab_type": "text"
      },
      "source": [
        "<a href=\"https://colab.research.google.com/github/baanisingh/Challenge-Question-Assignement-2/blob/main/Challenge_Question_Assignment2.ipynb\" target=\"_parent\"><img src=\"https://colab.research.google.com/assets/colab-badge.svg\" alt=\"Open In Colab\"/></a>"
      ]
    },
    {
      "cell_type": "markdown",
      "source": [
        "# **Ques) Write a python program to sort the list of heterogeneous data**"
      ],
      "metadata": {
        "id": "m5OeRjXzYB08"
      }
    },
    {
      "cell_type": "code",
      "execution_count": 3,
      "metadata": {
        "colab": {
          "base_uri": "https://localhost:8080/"
        },
        "id": "7Y8JUPlHX9Pu",
        "outputId": "0ff86cf2-41fa-423c-d629-e2aaa5d10792"
      },
      "outputs": [
        {
          "output_type": "stream",
          "name": "stdout",
          "text": [
            "Original list --> ['BAANI', 3, 'AAYUSH', 7]\n",
            "Sorted list --> ['AAYUSH', 'BAANI', 3, 7]\n"
          ]
        }
      ],
      "source": [
        "L = [\"BAANI\", 3, \"AAYUSH\", 7]\n",
        "\n",
        "print(\"Original list -->\", L)\n",
        "\n",
        "strings=[element for element in L if isinstance(element,str)]\n",
        "integers=[element for element in L if isinstance(element,int)]\n",
        "\n",
        "strings.sort()\n",
        "integers.sort()\n",
        "\n",
        "L=strings+integers\n",
        "\n",
        "print(\"Sorted list -->\",L)\n"
      ]
    }
  ]
}